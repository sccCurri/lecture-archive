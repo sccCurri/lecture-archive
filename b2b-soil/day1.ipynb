{
 "cells": [
  {
   "cell_type": "markdown",
   "metadata": {},
   "source": [
    "# S-OIL 코드 문제집\n",
    "- 문제는 퀴즈와 코딩테스트로 나뉘어 있습니다\n",
    "- 퀴즈는 수강 직후 문법을 숙지하였는지를 묻는 문제입니다.\n",
    "- 코딩테스트는 문법과 더불어 사고력을 함께 판단하는 문제입니다.\n",
    "- (참조) 위 문제집은 backjoon, codeup, programmers를 참조하였습니다"
   ]
  },
  {
   "cell_type": "markdown",
   "metadata": {},
   "source": [
    "## DAY1. 파이썬 기초1\n",
    "- 아래와 같은 내용을 숙달하기 위해 배웁니다\n",
    "    - 변수\n",
    "    - 입출력\n",
    "    - 기본연산\n",
    "    - 자료형 변환\n",
    "    - 자료형 리스트\n",
    "    - 자료형 딕셔너리"
   ]
  },
  {
   "cell_type": "markdown",
   "metadata": {},
   "source": [
    "## QUIZ"
   ]
  },
  {
   "cell_type": "markdown",
   "metadata": {},
   "source": [
    "### 변수와 입출력"
   ]
  },
  {
   "cell_type": "code",
   "execution_count": 1,
   "metadata": {},
   "outputs": [
    {
     "name": "stdout",
     "output_type": "stream",
     "text": [
      "8\n"
     ]
    }
   ],
   "source": [
    "# 퀴즈. 두 수의 곱\n",
    "'''\n",
    "문제. 숫자 값 두 개를 변수로 만들고 두 값을 곱해서 출력해보세요\n",
    "풀이 예시. 숫자2와 숫자4 변수를 만들고, 곱한 8이 출력되어야 합니다\n",
    "정답 출력 : 8\n",
    "'''\n",
    "# 아래에 코드를 입력해주세요!\n",
    "\n",
    "'''\n",
    "해설\n",
    "1. 변수 두 개를 선언해 숫자 값을 저장합니다\n",
    "2. 변수 두 개를 곱한 것을 print()를 사용하여 출력합니다\n",
    "'''\n",
    "# 해설 코드\n",
    "num1 = 2\n",
    "num2 = 4\n",
    "print(num1*num2)"
   ]
  },
  {
   "cell_type": "code",
   "execution_count": 5,
   "metadata": {},
   "outputs": [
    {
     "name": "stdout",
     "output_type": "stream",
     "text": [
      "황영상1025\n"
     ]
    }
   ],
   "source": [
    "# 퀴즈. 이름과 생일\n",
    "'''\n",
    "문제. 본인의 이름과 생일 값을 각각 변수로 만들고 붙여서 출력해보세요\n",
    "풀이 예시. 황영상과 1025 변수를 만들고, 붙여서 출력합니다\n",
    "정답 출력 : 황영상1025\n",
    "'''\n",
    "# 아래에 코드를 입력해주세요!\n",
    "\n",
    "'''\n",
    "해설\n",
    "\n",
    "'''\n",
    "# 해설 코드\n",
    "name = '황영상'\n",
    "birth = '1025'\n",
    "print(name+birth)"
   ]
  },
  {
   "cell_type": "markdown",
   "metadata": {},
   "source": [
    "### 자료형"
   ]
  },
  {
   "cell_type": "code",
   "execution_count": null,
   "metadata": {},
   "outputs": [],
   "source": []
  },
  {
   "cell_type": "markdown",
   "metadata": {},
   "source": [
    "### 기본연산"
   ]
  },
  {
   "cell_type": "code",
   "execution_count": 5,
   "metadata": {},
   "outputs": [
    {
     "name": "stdout",
     "output_type": "stream",
     "text": [
      "False\n"
     ]
    }
   ],
   "source": [
    "# 퀴즈. 기본연산1\n",
    "'''\n",
    "문제. 두 개의 변수를 만들고, 두 변수가 동일한 값인지 참, 거짓을 출력해보세요\n",
    "정답 출력. '황영상' '허선희' -> False\n",
    "'''\n",
    "# 아래에 코드를 입력해주세요!\n",
    "\n",
    "'''\n",
    "해설\n",
    "'''\n",
    "# 해설 코드\n",
    "a = '황영상'\n",
    "b = '허선희'\n",
    "print(a==b)"
   ]
  },
  {
   "cell_type": "code",
   "execution_count": 6,
   "metadata": {},
   "outputs": [
    {
     "name": "stdout",
     "output_type": "stream",
     "text": [
      "6\n"
     ]
    }
   ],
   "source": [
    "# 퀴즈. 기본연산2\n",
    "'''\n",
    "문제. 변수 하나를 만들고, 연산자를 사용하여 변수 값에 숫자 1을 더해본 뒤 출력해보세요\n",
    "정답 출력. 5 -> 6\n",
    "'''\n",
    "# 아래에 코드를 입력해주세요!\n",
    "\n",
    "'''\n",
    "해설\n",
    "'''\n",
    "# 해설코드\n",
    "num = 5\n",
    "num += 1\n",
    "print(num)"
   ]
  },
  {
   "cell_type": "markdown",
   "metadata": {},
   "source": [
    "### 자료형변환"
   ]
  },
  {
   "cell_type": "code",
   "execution_count": 8,
   "metadata": {},
   "outputs": [
    {
     "name": "stdout",
     "output_type": "stream",
     "text": [
      "<class 'str'>\n"
     ]
    }
   ],
   "source": [
    "# 퀴즈. 숫자를 문자로\n",
    "'''\n",
    "문제. 정수형 변수를 하나 만들고 문자열로 변환한 뒤, type()를 사용하여 자료형을 출력해보세요\n",
    "풀이 예시. 숫자 1을 만들고 문자로 바꿔봅니다\n",
    "정답 출력 : <class 'str'>\n",
    "'''\n",
    "# 아래에 코드를 입력해주세요!\n",
    "\n",
    "'''\n",
    "해설\n",
    "\n",
    "'''\n",
    "# 해설 코드\n",
    "a = 1\n",
    "a = str(a)\n",
    "print(type(a))"
   ]
  },
  {
   "cell_type": "code",
   "execution_count": 9,
   "metadata": {},
   "outputs": [
    {
     "name": "stdout",
     "output_type": "stream",
     "text": [
      "<class 'int'>\n"
     ]
    }
   ],
   "source": [
    "# 퀴즈. 문자를 숫자로\n",
    "'''\n",
    "문제. 문자형 변수를 하나 만들고 숫자로 변환한 뒤, type()를 사용하여 자료형을 출력해보세요\n",
    "풀이 예시. 문자 1을 만들고 숫자로 바꿔봅니다\n",
    "정답 출력 : <class 'int'>\n",
    "'''\n",
    "# 아래에 코드를 입력해주세요!\n",
    "\n",
    "'''\n",
    "해설\n",
    "\n",
    "'''\n",
    "# 해설 코드\n",
    "a = '1'\n",
    "a = int(a)\n",
    "print(type(a))"
   ]
  },
  {
   "cell_type": "markdown",
   "metadata": {},
   "source": [
    "## Coding Test"
   ]
  },
  {
   "cell_type": "markdown",
   "metadata": {},
   "source": [
    "## QUIZ"
   ]
  },
  {
   "cell_type": "markdown",
   "metadata": {},
   "source": [
    "### 자료형 리스트"
   ]
  },
  {
   "cell_type": "code",
   "execution_count": 2,
   "metadata": {},
   "outputs": [
    {
     "name": "stdout",
     "output_type": "stream",
     "text": [
      "허선희\n"
     ]
    }
   ],
   "source": [
    "# 퀴즈. 리스트 조작하기\n",
    "'''\n",
    "문제. 여러 사람의 이름을 담은 리스트를 만들고 하나의 값을 출력해보세요\n",
    "정답 출력. 황영상, 허선희, 오시영의 이름이 담긴 리스트에서 -> '황영상'\n",
    "'''\n",
    "# 아래에 코드를 입력해주세요!\n",
    "\n",
    "'''\n",
    "해설\n",
    "'''\n",
    "# 해설 코드\n",
    "people_list = ['황영상', '허선희', '오시영']\n",
    "print(people_list[1])"
   ]
  },
  {
   "cell_type": "code",
   "execution_count": null,
   "metadata": {},
   "outputs": [],
   "source": [
    "# 퀴즈. 리스트의 두 수 비교\n",
    "'''\n",
    "문제. 리스트에 담긴 두 수를 비교해주세요. 비교해서 값이 같다면 1을, 다르다면 -1을 출력해주세요\n",
    "정답 출력 : 1 혹은 -1\n",
    "'''\n",
    "# 아래에 코드를 입력해주세요!\n",
    "\n",
    "'''\n",
    "해설\n",
    "\n",
    "'''\n",
    "# 해설 코드\n",
    "a = 1\n",
    "a = str(a)\n",
    "print(type(a))"
   ]
  },
  {
   "cell_type": "markdown",
   "metadata": {},
   "source": [
    "### 자료형 딕셔너리"
   ]
  },
  {
   "cell_type": "code",
   "execution_count": 3,
   "metadata": {},
   "outputs": [
    {
     "name": "stdout",
     "output_type": "stream",
     "text": [
      "20\n"
     ]
    }
   ],
   "source": [
    "# 퀴즈. 딕셔너리 조작하기\n",
    "'''\n",
    "문제. 사람의 이름과 나이 값이 담긴 딕셔너리를 만들고, 나이 값을 출력해보세요\n",
    "정답 출력. 이름은 황영상이고 나이는 20이라면 -> 20\n",
    "'''\n",
    "# 아래에 코드를 입력하세요!\n",
    "\n",
    "'''\n",
    "해설\n",
    "'''\n",
    "# 해설 코드\n",
    "person_dict = {'name':'황영상', 'age':20}\n",
    "print(person_dict['age'])"
   ]
  },
  {
   "cell_type": "code",
   "execution_count": 12,
   "metadata": {},
   "outputs": [
    {
     "name": "stdout",
     "output_type": "stream",
     "text": [
      "{'name': '황영상', 'score': 'A', 'gender': 'M'}\n"
     ]
    }
   ],
   "source": [
    "# 퀴즈. 딕셔너리 키 추가\n",
    "'''\n",
    "문제. 이름과 성적이 들어있는 딕셔너리에 성별 gender를 추가해주세요\n",
    "정답 출력 : {'name': '황영상', 'score': 'A', 'gender': 'M'}\n",
    "'''\n",
    "# 아래에 코드를 입력해주세요!\n",
    "\n",
    "'''\n",
    "해설\n",
    "\n",
    "'''\n",
    "# 해설 코드\n",
    "a_dict = {'name':'황영상', 'score':'A'}\n",
    "a_dict['gender'] = 'M'\n",
    "print(a_dict)"
   ]
  },
  {
   "cell_type": "code",
   "execution_count": 13,
   "metadata": {},
   "outputs": [
    {
     "name": "stdout",
     "output_type": "stream",
     "text": [
      "[{'name': '황영상', 'age': '40', 'height': '170'}, {'name': '허선희', 'age': '30', 'height': '180'}, {'name': '오시영', 'age': '20', 'height': '175'}]\n"
     ]
    }
   ],
   "source": [
    "# 퀴즈. 자료형 리스트 딕셔너리\n",
    "'''\n",
    "문제. 이름/나이/키 값이 들어있는 여러 개의 딕셔너리를 만들어 주세요\n",
    "여러 개의 딕셔너리는 하나의 변수에 묶여 있어야 합니다\n",
    "'''\n",
    "# 아래에 코드를 입력해주세요!\n",
    "\n",
    "'''\n",
    "해설\n",
    "\n",
    "'''\n",
    "# 해설 코드\n",
    "a_list = [\n",
    "    {'name':'황영상','age':'40','height':'170'},\n",
    "    {'name':'허선희','age':'30','height':'180'},\n",
    "    {'name':'오시영','age':'20','height':'175'}\n",
    "]\n",
    "print(a_list)"
   ]
  },
  {
   "cell_type": "markdown",
   "metadata": {},
   "source": [
    "## Coding Test"
   ]
  },
  {
   "cell_type": "code",
   "execution_count": 7,
   "metadata": {},
   "outputs": [
    {
     "data": {
      "text/plain": [
       "'1994년 생입니다!'"
      ]
     },
     "execution_count": 7,
     "metadata": {},
     "output_type": "execute_result"
    }
   ],
   "source": [
    "# 코테. 몇 년생\n",
    "'''\n",
    "문제. 나이 age가 주어질 때, 2023년 기준으로 몇 년생인지 알려주는 코드를 완성해주세요\n",
    "확인. 답을 반환하는 변수 answer를 수정해주세요!\n",
    "풀이 예시. age가 30이면, 1994년생이라고 답이 나올거에요!\n",
    "'''\n",
    "def when_is_your_birthyear():\n",
    "    age = 0 # 여기에 코드를 써주세요\n",
    "    answer = '' # 여기에 코드를 써주세요\n",
    "    return f'{answer}년 생입니다!'\n",
    "\n",
    "# 해설 코드\n",
    "def when_is_your_birthyear():\n",
    "    age = 30\n",
    "    answer = 2023 - age + 1\n",
    "    return f'{answer}년 생입니다!'\n",
    "\n",
    "when_is_your_birthyear()"
   ]
  },
  {
   "cell_type": "code",
   "execution_count": 10,
   "metadata": {},
   "outputs": [
    {
     "data": {
      "text/plain": [
       "True"
      ]
     },
     "execution_count": 10,
     "metadata": {},
     "output_type": "execute_result"
    }
   ],
   "source": [
    "# 코테. 삼각형이 될 수 있는가\n",
    "'''\n",
    "문제. 선 세개로 삼각형을 만들기 위해서는 가장 긴 변의 길이가 다른 두 변의 길이의 합보다 작아야 합니다\n",
    "lines에 세 변의 길이를 담고, 각각의 값을 사용하여 삼각형이 될 수 있는 지, 없는 지를 True, False로 나타내도록 완성해주세요\n",
    "전제. lines에 담길 세 변의 길이는 마지막 값이 가장 긴 값으로 합니다\n",
    "확인. 정답을 반환하는 변수 answer를 수정하여 True, False가 나오도록 해주세요!\n",
    "정답 출력. lines에 2,4,8 이 담겨 있다면 -> False\n",
    "'''\n",
    "def is_triangle():\n",
    "    lines = [] # 여기를 코딩해주세요\n",
    "    answer = \"\" # 여기를 코딩해주세요\n",
    "    return answer\n",
    "\n",
    "# is_triangle()\n",
    "\n",
    "'''\n",
    "해설\n",
    "'''\n",
    "# 해설 코드\n",
    "def is_triangle():\n",
    "    lines = [2,7,8]\n",
    "    answer = lines[0] + lines[1] > lines[2]\n",
    "    return answer\n",
    "\n",
    "is_triangle()"
   ]
  },
  {
   "cell_type": "code",
   "execution_count": 11,
   "metadata": {},
   "outputs": [
    {
     "data": {
      "text/plain": [
       "'941025-1000123'"
      ]
     },
     "execution_count": 11,
     "metadata": {},
     "output_type": "execute_result"
    }
   ],
   "source": [
    "# 코테. 주민등록번호\n",
    "'''\n",
    "문제. 주민등록번호는 123456-1234567과 같은 형식으로 이루어져 있다.\n",
    "이와 같이 출력될 수 있도록 6자리의 숫자와 7자리 숫자 두 개를 변수로 저장한 뒤, 주민등록번호 형식으로 출력해보세요\n",
    "정답 출력. 123456-1234567\n",
    "'''\n",
    "def id_number():\n",
    "    num1 = 0 # 여기를 코딩해주세요!\n",
    "    num2 = 0 # 여기를 코딩해주세요!\n",
    "    answer = \"\" # 여기를 코딩해주세요!\n",
    "    return answer\n",
    "\n",
    "# id_number()\n",
    "\n",
    "'''\n",
    "해설\n",
    "'''\n",
    "# 해설 코드\n",
    "def id_number():\n",
    "    num1 = 941225\n",
    "    num2 = 1000123\n",
    "    answer = str(num1) + '-' + str(num2)\n",
    "    return answer\n",
    "\n",
    "id_number()"
   ]
  }
 ],
 "metadata": {
  "kernelspec": {
   "display_name": "Python 3.9.6 ('venv': venv)",
   "language": "python",
   "name": "python3"
  },
  "language_info": {
   "codemirror_mode": {
    "name": "ipython",
    "version": 3
   },
   "file_extension": ".py",
   "mimetype": "text/x-python",
   "name": "python",
   "nbconvert_exporter": "python",
   "pygments_lexer": "ipython3",
   "version": "3.9.6"
  },
  "orig_nbformat": 4,
  "vscode": {
   "interpreter": {
    "hash": "1a6d05e2c67d2a38e3313d00e554947c16b558308a3c3e9dbdc78e8de302f973"
   }
  }
 },
 "nbformat": 4,
 "nbformat_minor": 2
}
