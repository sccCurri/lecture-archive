{
 "cells": [
  {
   "cell_type": "code",
   "execution_count": null,
   "metadata": {},
   "outputs": [],
   "source": []
  },
  {
   "cell_type": "markdown",
   "metadata": {},
   "source": [
    "# S-OIL 코드 문제집\n",
    "- 문제는 퀴즈와 코딩테스트로 나뉘어 있습니다\n",
    "- 퀴즈는 수강 직후 문법을 숙지하였는지를 묻는 문제입니다.\n",
    "- 코딩테스트는 문법과 더불어 사고력을 함께 판단하는 문제입니다.\n",
    "- (참조) 위 문제집은 backjoon, codeup, programmers를 참조하였습니다"
   ]
  },
  {
   "cell_type": "markdown",
   "metadata": {},
   "source": [
    "## DAY2. 파이썬 기초2\n",
    "- 아래와 같은 내용을 숙달하기 위해 배웁니다\n",
    "    - 비교/논리 연산\n",
    "    - 조건문\n",
    "    - 반복문"
   ]
  }
 ],
 "metadata": {
  "kernelspec": {
   "display_name": "Python 3.10.8 64-bit",
   "language": "python",
   "name": "python3"
  },
  "language_info": {
   "name": "python",
   "version": "3.10.8"
  },
  "orig_nbformat": 4,
  "vscode": {
   "interpreter": {
    "hash": "b0fa6594d8f4cbf19f97940f81e996739fb7646882a419484c72d19e05852a7e"
   }
  }
 },
 "nbformat": 4,
 "nbformat_minor": 2
}
